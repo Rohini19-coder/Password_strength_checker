{
 "cells": [
  {
   "cell_type": "code",
   "execution_count": 1,
   "id": "bbd1c6fb-c1a1-4c8c-b826-847225226c3d",
   "metadata": {},
   "outputs": [
    {
     "name": "stdout",
     "output_type": "stream",
     "text": [
      "================================================\n",
      "Password:  RHothtifhtkg@2025\n",
      "Captial Letters:  2\n",
      "Small Letters:  10\n",
      "Sys:  1\n",
      "Numbers:  4\n",
      "Length:  17\n",
      "================================================\n",
      "High\n"
     ]
    }
   ],
   "source": [
    "# Rule - 1 captial Letter\n",
    "# Rule - 2 small letter\n",
    "# Rule - 3 Symbol\n",
    "# Rule - 4 Number \n",
    "# Rule - 5 Char(12)\n",
    "# Low - 0, 6, 0, 0, >=6\n",
    "# Med - 1, 8, 0, 1, >=8\n",
    "# High - 2, 10, 1, 4, >=14\n",
    "\n",
    "\n",
    "p = \"RHothtifhtkg@2025\"\n",
    "c = 0\n",
    "s = 0\n",
    "sy = 0\n",
    "n = 0\n",
    "l = len(p)\n",
    "\n",
    "for i in p:\n",
    "    if i.isupper():\n",
    "        c+=1\n",
    "    elif i.islower():\n",
    "        s+=1\n",
    "    elif i.isdigit():\n",
    "        n +=1\n",
    "    else:\n",
    "        sy+=1\n",
    "\n",
    "\n",
    "print(\"================================================\")            \n",
    "print(\"Password: \",p)\n",
    "print(\"Captial Letters: \",c)\n",
    "print(\"Small Letters: \",s)\n",
    "print(\"Sys: \",sy)\n",
    "print(\"Numbers: \",n)\n",
    "print(\"Length: \",l)\n",
    "print(\"================================================\")   \n",
    "\n",
    "\n",
    "if c<=0 and s<=6 and sy<=0 and (l<=6):\n",
    "    print(\"Low\")\n",
    "elif c>=1 and s>=8 and sy<=0 and n>=1 and (l>=8):\n",
    "    print(\"Med\")\n",
    "elif c>=2 and s>=10 and sy>=1 and n>=4 and (l>=14):\n",
    "    print(\"High\")"
   ]
  },
  {
   "cell_type": "code",
   "execution_count": null,
   "id": "24128bb3-9347-4ae5-aa09-8c0cb5c38032",
   "metadata": {},
   "outputs": [],
   "source": []
  }
 ],
 "metadata": {
  "kernelspec": {
   "display_name": "Python [conda env:base] *",
   "language": "python",
   "name": "conda-base-py"
  },
  "language_info": {
   "codemirror_mode": {
    "name": "ipython",
    "version": 3
   },
   "file_extension": ".py",
   "mimetype": "text/x-python",
   "name": "python",
   "nbconvert_exporter": "python",
   "pygments_lexer": "ipython3",
   "version": "3.12.7"
  }
 },
 "nbformat": 4,
 "nbformat_minor": 5
}
